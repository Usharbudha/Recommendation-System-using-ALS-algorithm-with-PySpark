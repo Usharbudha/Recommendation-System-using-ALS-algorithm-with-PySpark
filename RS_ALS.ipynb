{
 "cells": [
  {
   "cell_type": "code",
   "execution_count": null,
   "metadata": {},
   "outputs": [],
   "source": [
    "#!pip install pyspark"
   ]
  },
  {
   "cell_type": "code",
   "execution_count": 1,
   "metadata": {},
   "outputs": [],
   "source": [
    "%matplotlib inline\n",
    "\n",
    "import pandas as pd\n",
    "from sklearn.model_selection import train_test_split\n",
    "import numpy as np\n",
    "from pyspark import SparkContext, SparkConf, StorageLevel, SQLContext\n",
    "from pyspark.sql import SparkSession\n",
    "from pyspark.sql.types import *\n",
    "from pyspark.sql.functions import *\n",
    "from pyspark.sql import functions as F\n",
    "from pyspark.ml.evaluation import RegressionEvaluator\n",
    "from pyspark.ml.recommendation import ALS"
   ]
  },
  {
   "cell_type": "code",
   "execution_count": 2,
   "metadata": {},
   "outputs": [],
   "source": [
    "from pyspark.sql import SparkSession\n",
    "spark = SparkSession.builder.appName('Recommendation_system').getOrCreate()"
   ]
  },
  {
   "cell_type": "code",
   "execution_count": 3,
   "metadata": {},
   "outputs": [
    {
     "name": "stdout",
     "output_type": "stream",
     "text": [
      "+--------------------+--------------------+-----+\n",
      "|                data|    mostRelevantTags|views|\n",
      "+--------------------+--------------------+-----+\n",
      "|boston consulting...|                null|    2|\n",
      "|2020/2021 rpm bas...|                null|    0|\n",
      "|Open Source Softw...|                null|    2|\n",
      "|aon software inve...|      Aon , Software|    0|\n",
      "|emc connectivity ...| EMC , Connectivi...|    0|\n",
      "|emc software indi...| EMC , Software, ...|    0|\n",
      "|usg government gl...| USG , Government...|    0|\n",
      "|3m south africa b...|3M , South Africa...|    0|\n",
      "|advertising apple...|Advertising, Appl...|    0|\n",
      "|advertising intel...|Advertising, Inte...|    0|\n",
      "|advertising new y...|Advertising, New ...|    0|\n",
      "|agriculture asia ...|   Agriculture, Asia|    0|\n",
      "|agriculture asia ...|   Agriculture, Asia|    0|\n",
      "|agriculture coca-...|Agriculture, Coca...|    0|\n",
      "|agriculture globa...|Agriculture, Glob...|    0|\n",
      "|agriculture india...|Agriculture, Indi...|    0|\n",
      "|agriculture india...|Agriculture, Indi...|    0|\n",
      "|agriculture india...|Agriculture, Indi...|    0|\n",
      "|agriculture india...|Agriculture, Indi...|    0|\n",
      "|agriculture india...|Agriculture, Indi...|    0|\n",
      "+--------------------+--------------------+-----+\n",
      "only showing top 20 rows\n",
      "\n"
     ]
    }
   ],
   "source": [
    "df = spark.read.csv('reports11.csv', header=True)\n",
    "df=df.orderBy('mostRelevantTags')\n",
    "df.show()"
   ]
  },
  {
   "cell_type": "code",
   "execution_count": 4,
   "metadata": {},
   "outputs": [],
   "source": [
    "df=df.fillna( { 'data':0, 'mostRelevantTags':0 , 'views':0} )"
   ]
  },
  {
   "cell_type": "code",
   "execution_count": 5,
   "metadata": {},
   "outputs": [
    {
     "name": "stdout",
     "output_type": "stream",
     "text": [
      "+--------------------+--------------------+-----+\n",
      "|    mostRelevantTags|                data|views|\n",
      "+--------------------+--------------------+-----+\n",
      "|                   0|boston consulting...|    2|\n",
      "|                   0|2020/2021 rpm bas...|    0|\n",
      "|                   0|Open Source Softw...|    2|\n",
      "|      Aon , Software|aon software inve...|    0|\n",
      "| EMC , Connectivi...|emc connectivity ...|    0|\n",
      "| EMC , Software, ...|emc software indi...|    0|\n",
      "| USG , Government...|usg government gl...|    0|\n",
      "|3M , South Africa...|3m south africa b...|    0|\n",
      "|Advertising, Appl...|advertising apple...|    0|\n",
      "|Advertising, Inte...|advertising intel...|    0|\n",
      "|Advertising, New ...|advertising new y...|    0|\n",
      "|   Agriculture, Asia|agriculture asia ...|    0|\n",
      "|   Agriculture, Asia|agriculture asia ...|    0|\n",
      "|Agriculture, Coca...|agriculture coca-...|    0|\n",
      "|Agriculture, Glob...|agriculture globa...|    0|\n",
      "|Agriculture, Indi...|agriculture india...|    0|\n",
      "|Agriculture, Indi...|agriculture india...|    0|\n",
      "|Agriculture, Indi...|agriculture india...|    0|\n",
      "|Agriculture, Indi...|agriculture india...|    0|\n",
      "|Agriculture, Indi...|agriculture india...|    0|\n",
      "+--------------------+--------------------+-----+\n",
      "only showing top 20 rows\n",
      "\n"
     ]
    }
   ],
   "source": [
    "nd=df.select(df['mostRelevantTags'],df['data'],df['views'])\n",
    "nd.show()"
   ]
  },
  {
   "cell_type": "code",
   "execution_count": 6,
   "metadata": {},
   "outputs": [
    {
     "name": "stdout",
     "output_type": "stream",
     "text": [
      "+--------------------+--------------------+----------------------+----------+-----+\n",
      "|    mostRelevantTags|                data|mostRelevantTags_index|data_index|views|\n",
      "+--------------------+--------------------+----------------------+----------+-----+\n",
      "|                   0|Open Source Softw...|                    17|       331|  2.0|\n",
      "|                   0|2020/2021 rpm bas...|                    17|       326|  0.0|\n",
      "|                   0|boston consulting...|                    17|       455|  2.0|\n",
      "|      Aon , Software|aon software inve...|                   365|       279|  0.0|\n",
      "| EMC , Connectivi...|emc connectivity ...|                   101|       228|  0.0|\n",
      "| EMC , Software, ...|emc software indi...|                   151|       463|  0.0|\n",
      "| USG , Government...|usg government gl...|                   145|       449|  0.0|\n",
      "|3M , South Africa...|3m south africa b...|                   278|       394|  0.0|\n",
      "|Advertising, Appl...|advertising apple...|                   317|       217|  0.0|\n",
      "|Advertising, Inte...|advertising intel...|                   370|        30|  0.0|\n",
      "|Advertising, New ...|advertising new y...|                    81|        81|  0.0|\n",
      "|   Agriculture, Asia|agriculture asia ...|                    28|       307|  0.0|\n",
      "|   Agriculture, Asia|agriculture asia ...|                    28|       187|  0.0|\n",
      "|Agriculture, Coca...|agriculture coca-...|                   360|       401|  0.0|\n",
      "|Agriculture, Glob...|agriculture globa...|                   263|       260|  0.0|\n",
      "|Agriculture, Indi...|agriculture india...|                    18|         4|  0.0|\n",
      "|Agriculture, Indi...|agriculture india...|                    18|         4|  0.0|\n",
      "|Agriculture, Indi...|agriculture india...|                    18|         4|  0.0|\n",
      "|Agriculture, Indi...|agriculture india...|                    27|        17|  0.0|\n",
      "|Agriculture, Indi...|agriculture india...|                    27|        17|  0.0|\n",
      "+--------------------+--------------------+----------------------+----------+-----+\n",
      "only showing top 20 rows\n",
      "\n"
     ]
    }
   ],
   "source": [
    "from pyspark.ml.feature import StringIndexer\n",
    "from pyspark.ml import Pipeline\n",
    "from pyspark.sql.functions import col\n",
    "indexer = [StringIndexer(inputCol=column, outputCol=column+\"_index\") for column in list(set(nd.columns)-set(['views'])) ]\n",
    "pipeline = Pipeline(stages=indexer)\n",
    "transformed = pipeline.fit(nd).transform(nd)\n",
    "transformed = transformed.select(transformed.mostRelevantTags.cast(\"string\"),transformed.data.cast(\"string\"),transformed.mostRelevantTags_index.cast(\"integer\"),transformed.data_index.cast(\"integer\"),transformed.views.cast(\"double\"))\n",
    "transformed.show()"
   ]
  },
  {
   "cell_type": "code",
   "execution_count": 7,
   "metadata": {},
   "outputs": [],
   "source": [
    "(training,test)=transformed.randomSplit([0.8, 0.2])"
   ]
  },
  {
   "cell_type": "code",
   "execution_count": 8,
   "metadata": {},
   "outputs": [],
   "source": [
    "als=ALS(maxIter=20,regParam=0.5,rank=40,userCol=\"mostRelevantTags_index\",itemCol=\"data_index\",ratingCol=\"views\",coldStartStrategy=\"drop\",nonnegative=True)\n",
    "model=als.fit(training)"
   ]
  },
  {
   "cell_type": "code",
   "execution_count": 9,
   "metadata": {},
   "outputs": [
    {
     "name": "stdout",
     "output_type": "stream",
     "text": [
      "RMSE=0.27890215509810207\n",
      "+--------------------+--------------------+----------------------+----------+-----+-------------+\n",
      "|    mostRelevantTags|                data|mostRelevantTags_index|data_index|views|   prediction|\n",
      "+--------------------+--------------------+----------------------+----------+-----+-------------+\n",
      "|              Global|global report of ...|                    11|        13|  0.0|          0.0|\n",
      "|India, Intel, Edu...|india intel educa...|                    15|         6|  0.0|          0.0|\n",
      "|Germany, Andrew, ...|germany andrew fo...|                    19|         3|  0.0|          0.0|\n",
      "|Technology, Food,...|technology food g...|                    12|         5|  0.0|          0.0|\n",
      "|Technology, Food,...|technology food g...|                    12|         5|  0.0|          0.0|\n",
      "|   Education, Global|education global ...|                     1|         9|  0.0|   0.88196605|\n",
      "|India, Marketing,...|india marketing i...|                    24|         8|  0.0|          0.0|\n",
      "|Marketing, Ethiop...|marketing ethiopi...|                    45|         7|  0.0|          0.0|\n",
      "|Dell, Netherlands...|dell netherlands ...|                    52|        11|  0.0|          0.0|\n",
      "|Technology, Denma...|technology denmar...|                     6|         0|  0.0|1.0411823E-15|\n",
      "+--------------------+--------------------+----------------------+----------+-----+-------------+\n",
      "\n"
     ]
    }
   ],
   "source": [
    "evaluator=RegressionEvaluator(metricName=\"rmse\",labelCol=\"views\",predictionCol=\"prediction\")\n",
    "predictions=model.transform(test)\n",
    "rmse=evaluator.evaluate(predictions)\n",
    "print(\"RMSE=\"+str(rmse))\n",
    "predictions.show()"
   ]
  },
  {
   "cell_type": "code",
   "execution_count": 10,
   "metadata": {},
   "outputs": [
    {
     "name": "stdout",
     "output_type": "stream",
     "text": [
      "+----------------------+--------------------+\n",
      "|mostRelevantTags_index|     recommendations|\n",
      "+----------------------+--------------------+\n",
      "|                   392|[[0, 0.0], [10, 0...|\n",
      "|                   243|[[0, 0.0], [10, 0...|\n",
      "|                    31|[[421, 50.081444]...|\n",
      "|                   251|[[0, 0.0], [10, 0...|\n",
      "|                    53|[[0, 0.0], [10, 0...|\n",
      "|                   255|[[421, 26.230612]...|\n",
      "|                   296|[[0, 0.0], [10, 0...|\n",
      "|                   322|[[0, 0.0], [10, 0...|\n",
      "|                    78|[[0, 0.0], [10, 0...|\n",
      "|                   321|[[0, 0.0], [10, 0...|\n",
      "+----------------------+--------------------+\n",
      "only showing top 10 rows\n",
      "\n"
     ]
    }
   ],
   "source": [
    "user_recs=model.recommendForAllUsers(20).show(10)"
   ]
  },
  {
   "cell_type": "code",
   "execution_count": 12,
   "metadata": {},
   "outputs": [
    {
     "name": "stdout",
     "output_type": "stream",
     "text": [
      "                         mostRelevantTags  \\\n",
      "0     EMC , Connectivity, India, Hardware   \n",
      "1           EMC , Software, India, Global   \n",
      "2                USG , Government, Global   \n",
      "3                                       0   \n",
      "4      3M , South Africa, Banking, Global   \n",
      "..                                    ...   \n",
      "321              United States, Insurance   \n",
      "322                  Venezuela, Education   \n",
      "323            cloud, Global, Engineering   \n",
      "324              cloud, Insurance, Global   \n",
      "325              eBay, Europe, Technology   \n",
      "\n",
      "                                       recommendations  \n",
      "0    [(kenya education empowering women kenya â€™ t...  \n",
      "1    [(alcoa india insurance the effects iowa â€™ p...  \n",
      "2    [(india manufacturing progressive nifty 2020, ...  \n",
      "3    [(intel manufacturing canada jefferies pet ind...  \n",
      "4    [(government global migrant worker management ...  \n",
      "..                                                 ...  \n",
      "321  [(kenya education empowering women kenya â€™ t...  \n",
      "322  [(government global migrant worker management ...  \n",
      "323  [(asia iot education unescoâ€�unicef ecce poli...  \n",
      "324  [(technology cloud global seizing analytics ad...  \n",
      "325  [(asia iot education unescoâ€�unicef ecce poli...  \n",
      "\n",
      "[326 rows x 2 columns]\n"
     ]
    },
    {
     "name": "stderr",
     "output_type": "stream",
     "text": [
      "/opt/anaconda3/lib/python3.7/site-packages/ipykernel_launcher.py:27: SettingWithCopyWarning: \n",
      "A value is trying to be set on a copy of a slice from a DataFrame.\n",
      "Try using .loc[row_indexer,col_indexer] = value instead\n",
      "\n",
      "See the caveats in the documentation: https://pandas.pydata.org/pandas-docs/stable/user_guide/indexing.html#returning-a-view-versus-a-copy\n"
     ]
    }
   ],
   "source": [
    "import pandas as pd\n",
    "recs=model.recommendForAllUsers(10).toPandas()\n",
    "nrecs=recs.recommendations.apply(pd.Series) \\\n",
    "            .merge(recs, right_index = True, left_index = True) \\\n",
    "            .drop([\"recommendations\"], axis = 1) \\\n",
    "            .melt(id_vars = ['mostRelevantTags_index'], value_name = \"recommendation\") \\\n",
    "            .drop(\"variable\", axis = 1) \\\n",
    "            .dropna() \n",
    "nrecs=nrecs.sort_values('mostRelevantTags_index')\n",
    "nrecs=pd.concat([nrecs['recommendation'].apply(pd.Series), nrecs['mostRelevantTags_index']], axis = 1)\n",
    "nrecs.columns = [\n",
    "        \n",
    "        'data_index',\n",
    "        'views',\n",
    "        'mostRelevantTags_index'\n",
    "       \n",
    "     ]\n",
    "md=transformed.select(transformed['mostRelevantTags'],transformed['mostRelevantTags_index'],transformed['data'],transformed['data_index'])\n",
    "md=md.toPandas()\n",
    "dict1 =dict(zip(md['mostRelevantTags_index'],md['mostRelevantTags']))\n",
    "dict2=dict(zip(md['data_index'],md['data']))\n",
    "nrecs['mostRelevantTags']=nrecs['mostRelevantTags_index'].map(dict1)\n",
    "nrecs['data']=nrecs['data_index'].map(dict2)\n",
    "nrecs=nrecs.sort_values('mostRelevantTags')\n",
    "nrecs.reset_index(drop=True, inplace=True)\n",
    "new=nrecs[['mostRelevantTags','data','views']]\n",
    "new['recommendations'] = list(zip(new.data, new.views))\n",
    "res=new[['mostRelevantTags','recommendations']]  \n",
    "res_new=res['recommendations'].groupby([res.mostRelevantTags]).apply(list).reset_index()\n",
    "print(res_new)"
   ]
  },
  {
   "cell_type": "code",
   "execution_count": null,
   "metadata": {},
   "outputs": [],
   "source": []
  }
 ],
 "metadata": {
  "kernelspec": {
   "display_name": "Python 3",
   "language": "python",
   "name": "python3"
  },
  "language_info": {
   "codemirror_mode": {
    "name": "ipython",
    "version": 3
   },
   "file_extension": ".py",
   "mimetype": "text/x-python",
   "name": "python",
   "nbconvert_exporter": "python",
   "pygments_lexer": "ipython3",
   "version": "3.7.6"
  }
 },
 "nbformat": 4,
 "nbformat_minor": 4
}
